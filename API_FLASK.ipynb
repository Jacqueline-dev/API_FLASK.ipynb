{
  "nbformat": 4,
  "nbformat_minor": 0,
  "metadata": {
    "colab": {
      "provenance": [],
      "authorship_tag": "ABX9TyMFmcC2l/e0vEKry2c2HshL",
      "include_colab_link": true
    },
    "kernelspec": {
      "name": "python3",
      "display_name": "Python 3"
    },
    "language_info": {
      "name": "python"
    }
  },
  "cells": [
    {
      "cell_type": "markdown",
      "metadata": {
        "id": "view-in-github",
        "colab_type": "text"
      },
      "source": [
        "<a href=\"https://colab.research.google.com/github/Jacqueline-dev/API_FLASK.ipynb/blob/main/API_FLASK.ipynb\" target=\"_parent\"><img src=\"https://colab.research.google.com/assets/colab-badge.svg\" alt=\"Open In Colab\"/></a>"
      ]
    },
    {
      "cell_type": "markdown",
      "source": [
        "INSTALANDO A BIBLIOTECA PARA FLASK NGROCK"
      ],
      "metadata": {
        "id": "PIUbFhkrjX1p"
      }
    },
    {
      "cell_type": "markdown",
      "source": [],
      "metadata": {
        "id": "vljLxo9olzzF"
      }
    },
    {
      "cell_type": "code",
      "execution_count": null,
      "metadata": {
        "colab": {
          "base_uri": "https://localhost:8080/"
        },
        "id": "-5AaouWTjMxG",
        "outputId": "e18a1eb5-5721-4ec5-e959-66307362b856"
      },
      "outputs": [
        {
          "output_type": "stream",
          "name": "stdout",
          "text": [
            "Looking in indexes: https://pypi.org/simple, https://us-python.pkg.dev/colab-wheels/public/simple/\n",
            "Collecting flask_ngrok\n",
            "  Downloading flask_ngrok-0.0.25-py3-none-any.whl (3.1 kB)\n",
            "Requirement already satisfied: Flask>=0.8 in /usr/local/lib/python3.10/dist-packages (from flask_ngrok) (2.2.4)\n",
            "Requirement already satisfied: requests in /usr/local/lib/python3.10/dist-packages (from flask_ngrok) (2.27.1)\n",
            "Requirement already satisfied: Werkzeug>=2.2.2 in /usr/local/lib/python3.10/dist-packages (from Flask>=0.8->flask_ngrok) (2.3.0)\n",
            "Requirement already satisfied: Jinja2>=3.0 in /usr/local/lib/python3.10/dist-packages (from Flask>=0.8->flask_ngrok) (3.1.2)\n",
            "Requirement already satisfied: itsdangerous>=2.0 in /usr/local/lib/python3.10/dist-packages (from Flask>=0.8->flask_ngrok) (2.1.2)\n",
            "Requirement already satisfied: click>=8.0 in /usr/local/lib/python3.10/dist-packages (from Flask>=0.8->flask_ngrok) (8.1.3)\n",
            "Requirement already satisfied: urllib3<1.27,>=1.21.1 in /usr/local/lib/python3.10/dist-packages (from requests->flask_ngrok) (1.26.15)\n",
            "Requirement already satisfied: certifi>=2017.4.17 in /usr/local/lib/python3.10/dist-packages (from requests->flask_ngrok) (2022.12.7)\n",
            "Requirement already satisfied: charset-normalizer~=2.0.0 in /usr/local/lib/python3.10/dist-packages (from requests->flask_ngrok) (2.0.12)\n",
            "Requirement already satisfied: idna<4,>=2.5 in /usr/local/lib/python3.10/dist-packages (from requests->flask_ngrok) (3.4)\n",
            "Requirement already satisfied: MarkupSafe>=2.0 in /usr/local/lib/python3.10/dist-packages (from Jinja2>=3.0->Flask>=0.8->flask_ngrok) (2.1.2)\n",
            "Installing collected packages: flask_ngrok\n",
            "Successfully installed flask_ngrok-0.0.25\n"
          ]
        }
      ],
      "source": [
        "!pip install flask_ngrok"
      ]
    },
    {
      "cell_type": "markdown",
      "source": [
        "IMPORTANDO BIBLIOTECAS"
      ],
      "metadata": {
        "id": "s6KakDH-j0dB"
      }
    },
    {
      "cell_type": "code",
      "execution_count": null,
      "metadata": {
        "id": "gd4BQZgY-Pod"
      },
      "outputs": [],
      "source": [
        "import pandas as pd\n",
        "from flask_ngrok import run_with_ngrok\n",
        "from flask import request, jsonify, Flask\n",
        "import random as rk"
      ]
    },
    {
      "cell_type": "markdown",
      "source": [
        "DISONIBILIZANDO O APP FLASK AO EXCUTAR"
      ],
      "metadata": {
        "id": "8xGvRx9kkYN6"
      }
    },
    {
      "cell_type": "code",
      "execution_count": null,
      "metadata": {
        "id": "rGXIGaaJ-eiY"
      },
      "outputs": [],
      "source": [
        "app = Flask(__name__) #the name of the application package\n",
        "run_with_ngrok(app) "
      ]
    },
    {
      "cell_type": "markdown",
      "source": [
        "DADOS EM ARQUIVO JSON\n"
      ],
      "metadata": {
        "id": "x7vuF757l0-l"
      }
    },
    {
      "cell_type": "code",
      "source": [
        "d = {\n",
        "    \"number\": 1, \n",
        "    \"name\": \"Mahesh\", \n",
        "    \"age\": 25,\n",
        "    \"city\": \"Bangarole\",\n",
        "    \"country\": \"India\",\n",
        "      \n",
        "  },\n",
        "\n",
        "d = {\n",
        "    \"number\": 2, \n",
        "    \"name\": \"Alex\", \n",
        "    \"age\": 26,\n",
        "    \"city\": \"London\",\n",
        "    \"country\": \"UK\",\n",
        "},\n",
        "\n",
        "d ={\n",
        "    \"number\": 3, \n",
        "    \"name\": \"David\", \n",
        "    \"age\": 27,\n",
        "    \"city\": \"San Francisco\",\n",
        "    \"country\": \"USA\",\n",
        "},\n",
        "\n",
        "d ={\n",
        "    \"number\": 4, \n",
        "    \"name\": \"John\", \n",
        "    \"age\": 28,\n",
        "    \"city\": \"Toronto\",\n",
        "    \"country\": \"Canada\",\n",
        "},\n",
        "\n",
        "d ={\n",
        "    \"number\": 5, \n",
        "    \"name\": \"Chris\", \n",
        "    \"age\": 29,\n",
        "    \"city\": \"Paris\",\n",
        "    \"country\": \"France\",\n",
        "},\n",
        "  \n",
        "  \n",
        "  \n"
      ],
      "metadata": {
        "id": "yi-KoBJPl8us"
      },
      "execution_count": null,
      "outputs": []
    },
    {
      "cell_type": "markdown",
      "source": [
        "ROTEAMENTO DO APLICATIVO"
      ],
      "metadata": {
        "id": "ZTtDUNbmqDFc"
      }
    },
    {
      "cell_type": "code",
      "execution_count": null,
      "metadata": {
        "id": "gQ8XIb3e-xn-"
      },
      "outputs": [],
      "source": [
        "@app.route(\"/\") #code to assign HomePage URL in our app to function home.\n",
        "\n",
        "def home():\n",
        "  '''\n",
        "  The entire line below must be written in a single line.\n",
        "  '''\n",
        "  return \"<marquee><h3> TO CHECK IN PUT ADD '/input' TO THE URL AND TO CHECK OUT PUT ADD '/output' TO THE URL.</h3></marquee>\""
      ]
    },
    {
      "cell_type": "markdown",
      "source": [
        "FUNÇÃO PARA RECEBER A ENTRADA"
      ],
      "metadata": {
        "id": "oRwCJ52gqkU1"
      }
    },
    {
      "cell_type": "code",
      "source": [
        "@app.route(\"/input\") #code to assign Input URL in our app to function input.\n",
        "\n",
        "def input():\n",
        "  return jsonify(d) # \"d\" is the dictionary we defined"
      ],
      "metadata": {
        "id": "o9yT-ME2qr6W"
      },
      "execution_count": null,
      "outputs": []
    },
    {
      "cell_type": "markdown",
      "source": [
        "CRIANDO ROTAS"
      ],
      "metadata": {
        "id": "k-0at7Ihq5fM"
      }
    },
    {
      "cell_type": "code",
      "source": [
        "@app.route('/output', methods=['GET','POST']) #output page\n",
        "\n",
        "def predJson():\n",
        " pred = r.choice([\"positive\",\"negative\"])\n",
        " nd = d # our input\n",
        " nd[\"prediction\"]=pred\n",
        " return jsonify(nd)\n",
        "\n",
        "app.run()"
      ],
      "metadata": {
        "colab": {
          "base_uri": "https://localhost:8080/"
        },
        "id": "ULj7EZNeq7jG",
        "outputId": "55adc0f1-a19e-4f16-bffc-88740a958752"
      },
      "execution_count": null,
      "outputs": [
        {
          "metadata": {
            "tags": null
          },
          "name": "stdout",
          "output_type": "stream",
          "text": [
            " * Serving Flask app '__main__'\n",
            " * Debug mode: off\n"
          ]
        },
        {
          "metadata": {
            "tags": null
          },
          "name": "stderr",
          "output_type": "stream",
          "text": [
            "INFO:werkzeug:\u001b[31m\u001b[1mWARNING: This is a development server. Do not use it in a production deployment. Use a production WSGI server instead.\u001b[0m\n",
            " * Running on http://127.0.0.1:5000\n",
            "INFO:werkzeug:\u001b[33mPress CTRL+C to quit\u001b[0m\n"
          ]
        },
        {
          "metadata": {
            "tags": null
          },
          "name": "stdout",
          "output_type": "stream",
          "text": [
            " * Running on http://c408-34-70-52-120.ngrok.io\n",
            " * Traffic stats available on http://127.0.0.1:4040\n"
          ]
        },
        {
          "metadata": {
            "tags": null
          },
          "name": "stderr",
          "output_type": "stream",
          "text": [
            "INFO:werkzeug:127.0.0.1 - - [01/May/2023 18:48:45] \"GET / HTTP/1.1\" 200 -\n",
            "INFO:werkzeug:127.0.0.1 - - [01/May/2023 18:48:45] \"\u001b[33mGET /robots.txt HTTP/1.1\u001b[0m\" 404 -\n",
            "INFO:werkzeug:127.0.0.1 - - [01/May/2023 18:48:45] \"\u001b[33mGET /robots.txt HTTP/1.1\u001b[0m\" 404 -\n",
            "INFO:werkzeug:127.0.0.1 - - [01/May/2023 18:48:46] \"\u001b[33mGET /robots.txt HTTP/1.1\u001b[0m\" 404 -\n",
            "INFO:werkzeug:127.0.0.1 - - [01/May/2023 18:48:46] \"\u001b[33mGET /static/EuclidSquare-Medium-WebS.woff HTTP/1.1\u001b[0m\" 404 -\n",
            "INFO:werkzeug:127.0.0.1 - - [01/May/2023 18:48:46] \"\u001b[33mGET /static/EuclidSquare-Regular-WebS.woff HTTP/1.1\u001b[0m\" 404 -\n",
            "INFO:werkzeug:127.0.0.1 - - [01/May/2023 18:48:46] \"\u001b[33mGET /robots.txt HTTP/1.1\u001b[0m\" 404 -\n",
            "INFO:werkzeug:127.0.0.1 - - [01/May/2023 18:48:46] \"\u001b[33mGET /static/IBMPlexMono-SemiBoldItalic.woff HTTP/1.1\u001b[0m\" 404 -\n",
            "INFO:werkzeug:127.0.0.1 - - [01/May/2023 18:48:46] \"\u001b[33mGET /static/IBMPlexMono-TextItalic.woff HTTP/1.1\u001b[0m\" 404 -\n",
            "INFO:werkzeug:127.0.0.1 - - [01/May/2023 18:48:46] \"\u001b[33mGET /static/IBMPlexMono-SemiBold.woff HTTP/1.1\u001b[0m\" 404 -\n",
            "INFO:werkzeug:127.0.0.1 - - [01/May/2023 18:48:46] \"\u001b[33mGET /static/IBMPlexMono-Text.woff HTTP/1.1\u001b[0m\" 404 -\n",
            "INFO:werkzeug:127.0.0.1 - - [01/May/2023 18:48:46] \"\u001b[33mGET /static/EuclidSquare-RegularItalic-WebS.woff HTTP/1.1\u001b[0m\" 404 -\n",
            "INFO:werkzeug:127.0.0.1 - - [01/May/2023 18:48:46] \"\u001b[33mGET /static/EuclidSquare-MediumItalic-WebS.woff HTTP/1.1\u001b[0m\" 404 -\n",
            "INFO:werkzeug:127.0.0.1 - - [01/May/2023 18:48:47] \"\u001b[33mGET /favicon.ico HTTP/1.1\u001b[0m\" 404 -\n",
            "INFO:werkzeug:127.0.0.1 - - [01/May/2023 18:48:49] \"GET / HTTP/1.1\" 200 -\n",
            "INFO:werkzeug:127.0.0.1 - - [01/May/2023 18:48:50] \"\u001b[33mGET /static/EuclidSquare-Regular-WebS.woff HTTP/1.1\u001b[0m\" 404 -\n",
            "INFO:werkzeug:127.0.0.1 - - [01/May/2023 18:48:50] \"\u001b[33mGET /static/EuclidSquare-Medium-WebS.woff HTTP/1.1\u001b[0m\" 404 -\n",
            "INFO:werkzeug:127.0.0.1 - - [01/May/2023 18:48:50] \"\u001b[33mGET /static/IBMPlexMono-SemiBoldItalic.woff HTTP/1.1\u001b[0m\" 404 -\n",
            "INFO:werkzeug:127.0.0.1 - - [01/May/2023 18:48:50] \"\u001b[33mGET /static/IBMPlexMono-TextItalic.woff HTTP/1.1\u001b[0m\" 404 -\n",
            "INFO:werkzeug:127.0.0.1 - - [01/May/2023 18:48:50] \"\u001b[33mGET /static/IBMPlexMono-SemiBold.woff HTTP/1.1\u001b[0m\" 404 -\n",
            "INFO:werkzeug:127.0.0.1 - - [01/May/2023 18:48:50] \"\u001b[33mGET /static/IBMPlexMono-Text.woff HTTP/1.1\u001b[0m\" 404 -\n",
            "INFO:werkzeug:127.0.0.1 - - [01/May/2023 18:48:50] \"\u001b[33mGET /static/EuclidSquare-MediumItalic-WebS.woff HTTP/1.1\u001b[0m\" 404 -\n",
            "INFO:werkzeug:127.0.0.1 - - [01/May/2023 18:48:50] \"\u001b[33mGET /static/EuclidSquare-RegularItalic-WebS.woff HTTP/1.1\u001b[0m\" 404 -\n",
            "INFO:werkzeug:127.0.0.1 - - [01/May/2023 18:48:50] \"\u001b[33mGET /favicon.ico HTTP/1.1\u001b[0m\" 404 -\n",
            "INFO:werkzeug:127.0.0.1 - - [01/May/2023 18:49:43] \"GET / HTTP/1.1\" 200 -\n",
            "INFO:werkzeug:127.0.0.1 - - [01/May/2023 18:49:44] \"\u001b[33mGET /static/EuclidSquare-Regular-WebS.woff HTTP/1.1\u001b[0m\" 404 -\n",
            "INFO:werkzeug:127.0.0.1 - - [01/May/2023 18:49:44] \"\u001b[33mGET /static/EuclidSquare-Medium-WebS.woff HTTP/1.1\u001b[0m\" 404 -\n",
            "INFO:werkzeug:127.0.0.1 - - [01/May/2023 18:49:44] \"\u001b[33mGET /static/IBMPlexMono-SemiBoldItalic.woff HTTP/1.1\u001b[0m\" 404 -\n",
            "INFO:werkzeug:127.0.0.1 - - [01/May/2023 18:49:44] \"\u001b[33mGET /static/IBMPlexMono-TextItalic.woff HTTP/1.1\u001b[0m\" 404 -\n",
            "INFO:werkzeug:127.0.0.1 - - [01/May/2023 18:49:44] \"\u001b[33mGET /static/IBMPlexMono-SemiBold.woff HTTP/1.1\u001b[0m\" 404 -\n",
            "INFO:werkzeug:127.0.0.1 - - [01/May/2023 18:49:44] \"\u001b[33mGET /static/IBMPlexMono-Text.woff HTTP/1.1\u001b[0m\" 404 -\n",
            "INFO:werkzeug:127.0.0.1 - - [01/May/2023 18:49:44] \"\u001b[33mGET /favicon.ico HTTP/1.1\u001b[0m\" 404 -\n",
            "INFO:werkzeug:127.0.0.1 - - [01/May/2023 18:49:44] \"\u001b[33mGET /static/EuclidSquare-MediumItalic-WebS.woff HTTP/1.1\u001b[0m\" 404 -\n",
            "INFO:werkzeug:127.0.0.1 - - [01/May/2023 18:49:44] \"\u001b[33mGET /static/EuclidSquare-RegularItalic-WebS.woff HTTP/1.1\u001b[0m\" 404 -\n"
          ]
        }
      ]
    }
  ]
}