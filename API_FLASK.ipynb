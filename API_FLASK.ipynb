{
  "cells": [
    {
      "cell_type": "markdown",
      "metadata": {
        "id": "view-in-github",
        "colab_type": "text"
      },
      "source": [
        "<a href=\"https://colab.research.google.com/github/Jacqueline-dev/API_FLASK.ipynb/blob/main/API_FLASK.ipynb\" target=\"_parent\"><img src=\"https://colab.research.google.com/assets/colab-badge.svg\" alt=\"Open In Colab\"/></a>"
      ]
    },
    {
      "cell_type": "markdown",
      "metadata": {
        "id": "PIUbFhkrjX1p"
      },
      "source": [
        "INSTALANDO A BIBLIOTECA PARA FLASK NGROCK"
      ]
    },
    {
      "cell_type": "code",
      "execution_count": null,
      "metadata": {
        "id": "-5AaouWTjMxG"
      },
      "outputs": [],
      "source": [
        "!pip install flask_ngrok"
      ]
    },
    {
      "cell_type": "markdown",
      "metadata": {
        "id": "s6KakDH-j0dB"
      },
      "source": [
        "IMPORTANDO BIBLIOTECAS"
      ]
    },
    {
      "cell_type": "code",
      "execution_count": null,
      "metadata": {
        "id": "gd4BQZgY-Pod"
      },
      "outputs": [],
      "source": [
        "import pandas as pd\n",
        "from flask_ngrok import run_with_ngrok\n",
        "from flask import request, jsonify, Flask\n",
        "import random as rk"
      ]
    },
    {
      "cell_type": "markdown",
      "metadata": {
        "id": "8xGvRx9kkYN6"
      },
      "source": [
        "DISONIBILIZANDO O APP FLASK AO EXCUTAR"
      ]
    },
    {
      "cell_type": "code",
      "execution_count": null,
      "metadata": {
        "id": "rGXIGaaJ-eiY"
      },
      "outputs": [],
      "source": [
        "app = Flask(__name__) #the name of the application package\n",
        "run_with_ngrok(app) "
      ]
    },
    {
      "cell_type": "markdown",
      "metadata": {
        "id": "x7vuF757l0-l"
      },
      "source": [
        "DADOS EM ARQUIVO JSON\n"
      ]
    },
    {
      "cell_type": "code",
      "execution_count": null,
      "metadata": {
        "id": "yi-KoBJPl8us"
      },
      "outputs": [],
      "source": [
        "d = {\n",
        "    \"number\": 1, \n",
        "    \"name\": \"Mahesh\", \n",
        "    \"age\": 25,\n",
        "    \"city\": \"Bangarole\",\n",
        "    \"country\": \"India\",\n",
        "      \n",
        "  },\n",
        "\n",
        "d = {\n",
        "    \"number\": 2, \n",
        "    \"name\": \"Alex\", \n",
        "    \"age\": 26,\n",
        "    \"city\": \"London\",\n",
        "    \"country\": \"UK\",\n",
        "},\n",
        "\n",
        "d ={\n",
        "    \"number\": 3, \n",
        "    \"name\": \"David\", \n",
        "    \"age\": 27,\n",
        "    \"city\": \"San Francisco\",\n",
        "    \"country\": \"USA\",\n",
        "},\n",
        "\n",
        "d ={\n",
        "    \"number\": 4, \n",
        "    \"name\": \"John\", \n",
        "    \"age\": 28,\n",
        "    \"city\": \"Toronto\",\n",
        "    \"country\": \"Canada\",\n",
        "},\n",
        "\n",
        "d ={\n",
        "    \"number\": 5, \n",
        "    \"name\": \"Chris\", \n",
        "    \"age\": 29,\n",
        "    \"city\": \"Paris\",\n",
        "    \"country\": \"France\",\n",
        "},\n",
        "  \n",
        "  \n",
        "  \n"
      ]
    },
    {
      "cell_type": "markdown",
      "metadata": {
        "id": "ZTtDUNbmqDFc"
      },
      "source": [
        "ROTEAMENTO DO APLICATIVO"
      ]
    },
    {
      "cell_type": "code",
      "execution_count": null,
      "metadata": {
        "id": "gQ8XIb3e-xn-"
      },
      "outputs": [],
      "source": [
        "@app.route(\"/\") #code to assign HomePage URL in our app to function home.\n",
        "\n",
        "def home():\n",
        "  '''\n",
        "  The entire line below must be written in a single line.\n",
        "  '''\n",
        "  return \"<marquee><h3> TO CHECK IN PUT ADD '/input' TO THE URL AND TO CHECK OUT PUT ADD '/output' TO THE URL.</h3></marquee>\""
      ]
    },
    {
      "cell_type": "markdown",
      "metadata": {
        "id": "oRwCJ52gqkU1"
      },
      "source": [
        "FUNÇÃO PARA RECEBER A ENTRADA"
      ]
    },
    {
      "cell_type": "code",
      "execution_count": null,
      "metadata": {
        "id": "o9yT-ME2qr6W"
      },
      "outputs": [],
      "source": [
        "@app.route(\"/input\") #code to assign Input URL in our app to function input.\n",
        "\n",
        "def input():\n",
        "  return jsonify(d) # \"d\" is the dictionary we defined"
      ]
    },
    {
      "cell_type": "markdown",
      "metadata": {
        "id": "k-0at7Ihq5fM"
      },
      "source": [
        "CRIANDO ROTAS"
      ]
    },
    {
      "cell_type": "code",
      "execution_count": null,
      "metadata": {
        "colab": {
          "background_save": true
        },
        "id": "ULj7EZNeq7jG"
      },
      "outputs": [],
      "source": [
        "@app.route('/output', methods=['GET','POST']) #output page\n",
        "\n",
        "def predJson():\n",
        " pred = r.choice([\"positive\",\"negative\"])\n",
        " nd = d # our input\n",
        " nd[\"prediction\"]=pred\n",
        " return jsonify(nd)\n",
        "\n",
        "app.run()"
      ]
    }
  ],
  "metadata": {
    "colab": {
      "provenance": [],
      "toc_visible": true,
      "include_colab_link": true
    },
    "kernelspec": {
      "display_name": "Python 3",
      "name": "python3"
    },
    "language_info": {
      "name": "python"
    }
  },
  "nbformat": 4,
  "nbformat_minor": 0
}